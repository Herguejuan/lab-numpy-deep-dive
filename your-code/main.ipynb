{
 "cells": [
  {
   "cell_type": "markdown",
   "metadata": {},
   "source": [
    "1 - Import the NUMPY package under the name np."
   ]
  },
  {
   "cell_type": "code",
   "execution_count": 1,
   "metadata": {},
   "outputs": [],
   "source": [
    "import numpy as np"
   ]
  },
  {
   "cell_type": "markdown",
   "metadata": {},
   "source": [
    "2 - Print the NUMPY version and the configuration."
   ]
  },
  {
   "cell_type": "code",
   "execution_count": 3,
   "metadata": {},
   "outputs": [
    {
     "data": {
      "text/plain": [
       "'1.19.1'"
      ]
     },
     "execution_count": 3,
     "metadata": {},
     "output_type": "execute_result"
    }
   ],
   "source": [
    "np.version.version"
   ]
  },
  {
   "cell_type": "code",
   "execution_count": 4,
   "metadata": {},
   "outputs": [
    {
     "data": {
      "text/plain": [
       "'1.19.1'"
      ]
     },
     "execution_count": 4,
     "metadata": {},
     "output_type": "execute_result"
    }
   ],
   "source": [
    "np.__version__"
   ]
  },
  {
   "cell_type": "markdown",
   "metadata": {},
   "source": [
    "3 - Generate a 2x3x5 3-dimensional array with random values, Assing the array to variable 'a'.\n",
    "    Challenge: There are  at least three aesy ways thah use numpy to generate random arrays. How many ways can you find?"
   ]
  },
  {
   "cell_type": "code",
   "execution_count": 88,
   "metadata": {},
   "outputs": [],
   "source": [
    "a = np.random.random((2,3,5))"
   ]
  },
  {
   "cell_type": "markdown",
   "metadata": {},
   "source": [
    "4 - Print 'a'"
   ]
  },
  {
   "cell_type": "code",
   "execution_count": 89,
   "metadata": {},
   "outputs": [
    {
     "name": "stdout",
     "output_type": "stream",
     "text": [
      "[[[0.82659143 0.25492593 0.90004466 0.37359998 0.91348203]\n",
      "  [0.18857706 0.08158314 0.16008856 0.13487169 0.20216722]\n",
      "  [0.15341345 0.93009753 0.08199757 0.91870087 0.68473979]]\n",
      "\n",
      " [[0.78891455 0.3981767  0.07936004 0.52628317 0.40273044]\n",
      "  [0.59825643 0.01322367 0.88429477 0.86195958 0.79674421]\n",
      "  [0.48419054 0.30510239 0.27821236 0.92592553 0.57711299]]]\n"
     ]
    }
   ],
   "source": [
    "print(a)"
   ]
  },
  {
   "cell_type": "markdown",
   "metadata": {},
   "source": [
    "5 -  Create a 5x2x3 3-dimensional array with all values equaling 1.\n",
    "    Assing the array to variable 'b'."
   ]
  },
  {
   "cell_type": "code",
   "execution_count": 78,
   "metadata": {},
   "outputs": [],
   "source": [
    "b = np.ones((5,2,3))"
   ]
  },
  {
   "cell_type": "markdown",
   "metadata": {},
   "source": [
    "6 - Print 'b'."
   ]
  },
  {
   "cell_type": "code",
   "execution_count": 79,
   "metadata": {},
   "outputs": [
    {
     "name": "stdout",
     "output_type": "stream",
     "text": [
      "[[[1. 1. 1.]\n",
      "  [1. 1. 1.]]\n",
      "\n",
      " [[1. 1. 1.]\n",
      "  [1. 1. 1.]]\n",
      "\n",
      " [[1. 1. 1.]\n",
      "  [1. 1. 1.]]\n",
      "\n",
      " [[1. 1. 1.]\n",
      "  [1. 1. 1.]]\n",
      "\n",
      " [[1. 1. 1.]\n",
      "  [1. 1. 1.]]]\n"
     ]
    }
   ],
   "source": [
    "print(b)"
   ]
  },
  {
   "cell_type": "markdown",
   "metadata": {},
   "source": [
    "7 - Do 'a' and 'b' have the same size? How do you prove that in Python code?."
   ]
  },
  {
   "cell_type": "code",
   "execution_count": 90,
   "metadata": {},
   "outputs": [
    {
     "name": "stdout",
     "output_type": "stream",
     "text": [
      "La cantidad de datos en el array a son:  30\n",
      "El array esta formado por las dimensiones:  (2, 3, 5)\n"
     ]
    }
   ],
   "source": [
    "print('La cantidad de datos en el array a son: ',a.size)\n",
    "print('El array esta formado por las dimensiones: ',a.shape)"
   ]
  },
  {
   "cell_type": "code",
   "execution_count": 91,
   "metadata": {},
   "outputs": [
    {
     "name": "stdout",
     "output_type": "stream",
     "text": [
      "La cantidad de datos en el array b son:  30\n",
      "El array esta formado por las dimensiones:  (5, 2, 3)\n"
     ]
    }
   ],
   "source": [
    "print('La cantidad de datos en el array b son: ',b.size)\n",
    "print('El array esta formado por las dimensiones: ',b.shape)"
   ]
  },
  {
   "cell_type": "markdown",
   "metadata": {},
   "source": [
    "8 - Are you able to add a and b? Why or why not?"
   ]
  },
  {
   "cell_type": "code",
   "execution_count": 92,
   "metadata": {},
   "outputs": [
    {
     "ename": "ValueError",
     "evalue": "operands could not be broadcast together with shapes (2,3,5) (5,2,3) ",
     "output_type": "error",
     "traceback": [
      "\u001b[1;31m---------------------------------------------------------------------------\u001b[0m",
      "\u001b[1;31mValueError\u001b[0m                                Traceback (most recent call last)",
      "\u001b[1;32m<ipython-input-92-3d2dd208f646>\u001b[0m in \u001b[0;36m<module>\u001b[1;34m\u001b[0m\n\u001b[1;32m----> 1\u001b[1;33m \u001b[0mnp\u001b[0m\u001b[1;33m.\u001b[0m\u001b[0madd\u001b[0m\u001b[1;33m(\u001b[0m\u001b[0ma\u001b[0m\u001b[1;33m,\u001b[0m\u001b[0mb\u001b[0m\u001b[1;33m)\u001b[0m   \u001b[1;31m# No se pueden sumar los arrays porque las dimensiones son diferentes aunque tengan el mismo número de datos\u001b[0m\u001b[1;33m\u001b[0m\u001b[1;33m\u001b[0m\u001b[0m\n\u001b[0m",
      "\u001b[1;31mValueError\u001b[0m: operands could not be broadcast together with shapes (2,3,5) (5,2,3) "
     ]
    }
   ],
   "source": [
    "np.add(a,b)   # No se pueden sumar los arrays porque las dimensiones son diferentes aunque tengan el mismo número de datos"
   ]
  },
  {
   "cell_type": "markdown",
   "metadata": {},
   "source": [
    "9 - Transpose b so that it was some structure of a. (i.e. become a 2,3,5 array). Assign the thansposed array to variable 'C'."
   ]
  },
  {
   "cell_type": "code",
   "execution_count": 99,
   "metadata": {},
   "outputs": [
    {
     "data": {
      "text/plain": [
       "array([[[1., 1., 1., 1., 1.],\n",
       "        [1., 1., 1., 1., 1.],\n",
       "        [1., 1., 1., 1., 1.]],\n",
       "\n",
       "       [[1., 1., 1., 1., 1.],\n",
       "        [1., 1., 1., 1., 1.],\n",
       "        [1., 1., 1., 1., 1.]]])"
      ]
     },
     "execution_count": 99,
     "metadata": {},
     "output_type": "execute_result"
    }
   ],
   "source": [
    "c = b.transpose(1,2,0)\n",
    "c"
   ]
  },
  {
   "cell_type": "markdown",
   "metadata": {},
   "source": [
    "10 - Try to add a and c. Now it shound work. Assing the sum to variable 'd'. But why does it work now?"
   ]
  },
  {
   "cell_type": "code",
   "execution_count": 101,
   "metadata": {},
   "outputs": [
    {
     "data": {
      "text/plain": [
       "array([[[1.82659143, 1.25492593, 1.90004466, 1.37359998, 1.91348203],\n",
       "        [1.18857706, 1.08158314, 1.16008856, 1.13487169, 1.20216722],\n",
       "        [1.15341345, 1.93009753, 1.08199757, 1.91870087, 1.68473979]],\n",
       "\n",
       "       [[1.78891455, 1.3981767 , 1.07936004, 1.52628317, 1.40273044],\n",
       "        [1.59825643, 1.01322367, 1.88429477, 1.86195958, 1.79674421],\n",
       "        [1.48419054, 1.30510239, 1.27821236, 1.92592553, 1.57711299]]])"
      ]
     },
     "execution_count": 101,
     "metadata": {},
     "output_type": "execute_result"
    }
   ],
   "source": [
    "d = np.add(a,c) # Ahora si tienen el mismo número de dimensiones\n",
    "d"
   ]
  },
  {
   "cell_type": "markdown",
   "metadata": {},
   "source": [
    "11 - Print a and d. Notice the difference and relation of the two array in terms of the values?. Explain"
   ]
  },
  {
   "cell_type": "code",
   "execution_count": 102,
   "metadata": {},
   "outputs": [
    {
     "data": {
      "text/plain": [
       "array([[[0.82659143, 0.25492593, 0.90004466, 0.37359998, 0.91348203],\n",
       "        [0.18857706, 0.08158314, 0.16008856, 0.13487169, 0.20216722],\n",
       "        [0.15341345, 0.93009753, 0.08199757, 0.91870087, 0.68473979]],\n",
       "\n",
       "       [[0.78891455, 0.3981767 , 0.07936004, 0.52628317, 0.40273044],\n",
       "        [0.59825643, 0.01322367, 0.88429477, 0.86195958, 0.79674421],\n",
       "        [0.48419054, 0.30510239, 0.27821236, 0.92592553, 0.57711299]]])"
      ]
     },
     "execution_count": 102,
     "metadata": {},
     "output_type": "execute_result"
    }
   ],
   "source": [
    "a"
   ]
  },
  {
   "cell_type": "code",
   "execution_count": 103,
   "metadata": {},
   "outputs": [
    {
     "data": {
      "text/plain": [
       "array([[[1.82659143, 1.25492593, 1.90004466, 1.37359998, 1.91348203],\n",
       "        [1.18857706, 1.08158314, 1.16008856, 1.13487169, 1.20216722],\n",
       "        [1.15341345, 1.93009753, 1.08199757, 1.91870087, 1.68473979]],\n",
       "\n",
       "       [[1.78891455, 1.3981767 , 1.07936004, 1.52628317, 1.40273044],\n",
       "        [1.59825643, 1.01322367, 1.88429477, 1.86195958, 1.79674421],\n",
       "        [1.48419054, 1.30510239, 1.27821236, 1.92592553, 1.57711299]]])"
      ]
     },
     "execution_count": 103,
     "metadata": {},
     "output_type": "execute_result"
    }
   ],
   "source": [
    "d # La relación que tienen los valores de los arrays es que d contiene los valores de ambos arrays, tanto a como c"
   ]
  },
  {
   "cell_type": "markdown",
   "metadata": {},
   "source": [
    "12 - Multiply a and c. Assign the result to e."
   ]
  },
  {
   "cell_type": "code",
   "execution_count": 104,
   "metadata": {},
   "outputs": [
    {
     "data": {
      "text/plain": [
       "array([[[0.82659143, 0.25492593, 0.90004466, 0.37359998, 0.91348203],\n",
       "        [0.18857706, 0.08158314, 0.16008856, 0.13487169, 0.20216722],\n",
       "        [0.15341345, 0.93009753, 0.08199757, 0.91870087, 0.68473979]],\n",
       "\n",
       "       [[0.78891455, 0.3981767 , 0.07936004, 0.52628317, 0.40273044],\n",
       "        [0.59825643, 0.01322367, 0.88429477, 0.86195958, 0.79674421],\n",
       "        [0.48419054, 0.30510239, 0.27821236, 0.92592553, 0.57711299]]])"
      ]
     },
     "execution_count": 104,
     "metadata": {},
     "output_type": "execute_result"
    }
   ],
   "source": [
    "e = np.multiply(a,c)\n",
    "e"
   ]
  },
  {
   "cell_type": "markdown",
   "metadata": {},
   "source": [
    "13 - Does e equal to a? Why or why not?"
   ]
  },
  {
   "cell_type": "code",
   "execution_count": 105,
   "metadata": {},
   "outputs": [
    {
     "data": {
      "text/plain": [
       "array([[[0.82659143, 0.25492593, 0.90004466, 0.37359998, 0.91348203],\n",
       "        [0.18857706, 0.08158314, 0.16008856, 0.13487169, 0.20216722],\n",
       "        [0.15341345, 0.93009753, 0.08199757, 0.91870087, 0.68473979]],\n",
       "\n",
       "       [[0.78891455, 0.3981767 , 0.07936004, 0.52628317, 0.40273044],\n",
       "        [0.59825643, 0.01322367, 0.88429477, 0.86195958, 0.79674421],\n",
       "        [0.48419054, 0.30510239, 0.27821236, 0.92592553, 0.57711299]]])"
      ]
     },
     "execution_count": 105,
     "metadata": {},
     "output_type": "execute_result"
    }
   ],
   "source": [
    "a  # En el array e asignamos la multiplicación de cada elemento del array a por 1, por eso a y e son iguales."
   ]
  },
  {
   "cell_type": "markdown",
   "metadata": {},
   "source": [
    "14 - Identify the max, min and mean values in d. Assign those values to variables 'd_max', 'd_min', and 'd_mean' "
   ]
  },
  {
   "cell_type": "code",
   "execution_count": 106,
   "metadata": {},
   "outputs": [
    {
     "data": {
      "text/plain": [
       "1.930097531571941"
      ]
     },
     "execution_count": 106,
     "metadata": {},
     "output_type": "execute_result"
    }
   ],
   "source": [
    "d_max = np.max(d)\n",
    "d_max"
   ]
  },
  {
   "cell_type": "code",
   "execution_count": 107,
   "metadata": {},
   "outputs": [
    {
     "data": {
      "text/plain": [
       "1.0132236721875205"
      ]
     },
     "execution_count": 107,
     "metadata": {},
     "output_type": "execute_result"
    }
   ],
   "source": [
    "d_min = np.min(d)\n",
    "d_min"
   ]
  },
  {
   "cell_type": "code",
   "execution_count": 108,
   "metadata": {},
   "outputs": [
    {
     "data": {
      "text/plain": [
       "1.490845610027801"
      ]
     },
     "execution_count": 108,
     "metadata": {},
     "output_type": "execute_result"
    }
   ],
   "source": [
    "d_mean = np.mean(d)\n",
    "d_mean"
   ]
  },
  {
   "cell_type": "markdown",
   "metadata": {},
   "source": [
    "15 - Now we want to label the values in d. First create an empty array 'f' whit the same shape (i.e. 2x3x5) as d using 'np.empty'."
   ]
  },
  {
   "cell_type": "code",
   "execution_count": 110,
   "metadata": {},
   "outputs": [
    {
     "data": {
      "text/plain": [
       "array([[[0.82659143, 0.25492593, 0.90004466, 0.37359998, 0.91348203],\n",
       "        [0.18857706, 0.08158314, 0.16008856, 0.13487169, 0.20216722],\n",
       "        [0.15341345, 0.93009753, 0.08199757, 0.91870087, 0.68473979]],\n",
       "\n",
       "       [[0.78891455, 0.3981767 , 0.07936004, 0.52628317, 0.40273044],\n",
       "        [0.59825643, 0.01322367, 0.88429477, 0.86195958, 0.79674421],\n",
       "        [0.48419054, 0.30510239, 0.27821236, 0.92592553, 0.57711299]]])"
      ]
     },
     "execution_count": 110,
     "metadata": {},
     "output_type": "execute_result"
    }
   ],
   "source": [
    "f = np.empty((2,3,5))\n",
    "f"
   ]
  },
  {
   "cell_type": "markdown",
   "metadata": {},
   "source": [
    "16 - Populate the values in f. For each value in d, if it's larger than d_min but smaller than d_mean, assign 25 to correcponding value in f. "
   ]
  },
  {
   "cell_type": "code",
   "execution_count": 111,
   "metadata": {},
   "outputs": [
    {
     "data": {
      "text/plain": [
       "array([[[1.82659143, 1.25492593, 1.90004466, 1.37359998, 1.91348203],\n",
       "        [1.18857706, 1.08158314, 1.16008856, 1.13487169, 1.20216722],\n",
       "        [1.15341345, 1.93009753, 1.08199757, 1.91870087, 1.68473979]],\n",
       "\n",
       "       [[1.78891455, 1.3981767 , 1.07936004, 1.52628317, 1.40273044],\n",
       "        [1.59825643, 1.01322367, 1.88429477, 1.86195958, 1.79674421],\n",
       "        [1.48419054, 1.30510239, 1.27821236, 1.92592553, 1.57711299]]])"
      ]
     },
     "execution_count": 111,
     "metadata": {},
     "output_type": "execute_result"
    }
   ],
   "source": [
    "d"
   ]
  },
  {
   "cell_type": "code",
   "execution_count": 112,
   "metadata": {},
   "outputs": [
    {
     "data": {
      "text/plain": [
       "(2, 3, 5)"
      ]
     },
     "execution_count": 112,
     "metadata": {},
     "output_type": "execute_result"
    }
   ],
   "source": [
    "d.shape"
   ]
  },
  {
   "cell_type": "code",
   "execution_count": 113,
   "metadata": {},
   "outputs": [
    {
     "data": {
      "text/plain": [
       "(2, 3, 5)"
      ]
     },
     "execution_count": 113,
     "metadata": {},
     "output_type": "execute_result"
    }
   ],
   "source": [
    "f.shape"
   ]
  },
  {
   "cell_type": "code",
   "execution_count": 137,
   "metadata": {},
   "outputs": [
    {
     "data": {
      "text/plain": [
       "array([[['75', '25', '75', '25', '75'],\n",
       "        ['25', '25', '25', '25', '25'],\n",
       "        ['25', '100', '25', '75', '75']],\n",
       "\n",
       "       [['75', '25', '25', '75', '25'],\n",
       "        ['75', '0', '75', '75', '75'],\n",
       "        ['25', '25', '25', '75', '75']]], dtype='<U32')"
      ]
     },
     "execution_count": 137,
     "metadata": {},
     "output_type": "execute_result"
    }
   ],
   "source": [
    "for i in range(d.shape[0]):\n",
    "    for j in range(d.shape[1]):\n",
    "        for k in range(d.shape[2]):\n",
    "            \n",
    "            if d[i][j][k] > d_mean and d[i][j][k] < d_max:\n",
    "                f[i][j][k] = 75\n",
    "            \n",
    "            elif d[i][j][k] == d_mean:\n",
    "                f[i][j][k] = 50\n",
    "                \n",
    "            elif d[i][j][k] == d_min:\n",
    "                f[i][j][k] = 0\n",
    "            \n",
    "            elif d[i][j][k] == d_max:\n",
    "                f[i][j][k] = 100\n",
    "            \n",
    "            elif d[i][j][k] > d_min and d[i][j][k] < d_mean:\n",
    "                f[i][j][k] = 25\n",
    "                \n",
    "f"
   ]
  },
  {
   "cell_type": "markdown",
   "metadata": {},
   "source": [
    "17 -  Print d and f. Do you have your expected f?\n",
    "    For instance, if your d is:\n"
   ]
  },
  {
   "cell_type": "code",
   "execution_count": 119,
   "metadata": {},
   "outputs": [],
   "source": [
    "# array([[[1.82659143, 1.25492593, 1.90004466, 1.37359998, 1.91348203],\n",
    "#        [1.18857706, 1.08158314, 1.16008856, 1.13487169, 1.20216722],\n",
    "#        [1.15341345, 1.93009753, 1.08199757, 1.91870087, 1.68473979]],\n",
    "#\n",
    "#      [[1.78891455, 1.3981767 , 1.07936004, 1.52628317, 1.40273044],\n",
    "#        [1.59825643, 1.01322367, 1.88429477, 1.86195958, 1.79674421],\n",
    "#        [1.48419054, 1.30510239, 1.27821236, 1.92592553, 1.57711299]]])\n",
    "#\n",
    "# Your f should be:\n",
    "# array([[[ 75.,  25.,  75.,  25.,  75.],\n",
    "#        [ 25.,  25.,  25.,  25.,  25.],\n",
    "#        [ 25., 100.,  25.,  75.,  75.]],\n",
    "#\n",
    "#       [[ 75.,  25.,  25.,  75.,  25.],\n",
    "#        [ 75.,   0.,  75.,  75.,  75.],\n",
    "#        [ 25.,  25.,  25.,  75.,  75.]]])\n"
   ]
  },
  {
   "cell_type": "code",
   "execution_count": 120,
   "metadata": {},
   "outputs": [
    {
     "data": {
      "text/plain": [
       "array([[[1.82659143, 1.25492593, 1.90004466, 1.37359998, 1.91348203],\n",
       "        [1.18857706, 1.08158314, 1.16008856, 1.13487169, 1.20216722],\n",
       "        [1.15341345, 1.93009753, 1.08199757, 1.91870087, 1.68473979]],\n",
       "\n",
       "       [[1.78891455, 1.3981767 , 1.07936004, 1.52628317, 1.40273044],\n",
       "        [1.59825643, 1.01322367, 1.88429477, 1.86195958, 1.79674421],\n",
       "        [1.48419054, 1.30510239, 1.27821236, 1.92592553, 1.57711299]]])"
      ]
     },
     "execution_count": 120,
     "metadata": {},
     "output_type": "execute_result"
    }
   ],
   "source": [
    "d"
   ]
  },
  {
   "cell_type": "code",
   "execution_count": 122,
   "metadata": {},
   "outputs": [
    {
     "data": {
      "text/plain": [
       "array([[[ 75.,  25.,  75.,  25.,  75.],\n",
       "        [ 25.,  25.,  25.,  25.,  25.],\n",
       "        [ 25., 100.,  25.,  75.,  75.]],\n",
       "\n",
       "       [[ 75.,  25.,  25.,  75.,  25.],\n",
       "        [ 75.,   0.,  75.,  75.,  75.],\n",
       "        [ 25.,  25.,  25.,  75.,  75.]]])"
      ]
     },
     "execution_count": 122,
     "metadata": {},
     "output_type": "execute_result"
    }
   ],
   "source": [
    "f # Es correcto"
   ]
  },
  {
   "cell_type": "markdown",
   "metadata": {},
   "source": [
    "18 - Bonus question: Instead of using numbers (i.e 0,25,50,75 and 100), how to use string values ('A','B','C','D' and 'E') to label the array elements? You are expecting the result to be: "
   ]
  },
  {
   "cell_type": "code",
   "execution_count": 124,
   "metadata": {},
   "outputs": [],
   "source": [
    "# array([[[ 'D',  'D',  'D',  'B',  'D'],\n",
    "#         [ 'D',  'D',  'B',  'B',  'B'],\n",
    "#         [ 'D',  'B',  'D',  'D',  'D']],\n",
    "#\n",
    "#        [[ 'B',  'B',  'B',  'B',  'E'],\n",
    "#         [ 'D',  'D',  'D',  'D',  'D'],\n",
    "#         [ 'B',  'D',   'A',  'D', 'D']]])"
   ]
  },
  {
   "cell_type": "markdown",
   "metadata": {},
   "source": [
    "Again, you don't need Numpy in this question."
   ]
  },
  {
   "cell_type": "code",
   "execution_count": 141,
   "metadata": {},
   "outputs": [
    {
     "data": {
      "text/plain": [
       "array([[['D', 'B', 'D', 'B', 'D'],\n",
       "        ['B', 'B', 'B', 'B', 'B'],\n",
       "        ['B', 'E', 'B', 'D', 'D']],\n",
       "\n",
       "       [['D', 'B', 'B', 'D', 'B'],\n",
       "        ['D', 'A', 'D', 'D', 'D'],\n",
       "        ['B', 'B', 'B', 'D', 'D']]], dtype='<U32')"
      ]
     },
     "execution_count": 141,
     "metadata": {},
     "output_type": "execute_result"
    }
   ],
   "source": [
    "for i in range(f.shape[0]):\n",
    "    for j in range(f.shape[1]):\n",
    "        for k in range(f.shape[2]):\n",
    "            \n",
    "            if d[i][j][k] > d_mean and d[i][j][k] < d_max:\n",
    "                f[i][j][k] = 'D'\n",
    "            \n",
    "            elif d[i][j][k] == d_mean:\n",
    "                f[i][j][k] = 'C'\n",
    "                \n",
    "            elif d[i][j][k] == d_min:\n",
    "                f[i][j][k] ='A'\n",
    "            \n",
    "            elif d[i][j][k] == d_max:\n",
    "                f[i][j][k] = 'E'\n",
    "            \n",
    "            elif d[i][j][k] > d_min and d[i][j][k] < d_mean:\n",
    "                f[i][j][k] = 'B'\n",
    "                \n",
    "f"
   ]
  },
  {
   "cell_type": "code",
   "execution_count": null,
   "metadata": {},
   "outputs": [],
   "source": []
  }
 ],
 "metadata": {
  "kernelspec": {
   "display_name": "Python 3",
   "language": "python",
   "name": "python3"
  },
  "language_info": {
   "codemirror_mode": {
    "name": "ipython",
    "version": 3
   },
   "file_extension": ".py",
   "mimetype": "text/x-python",
   "name": "python",
   "nbconvert_exporter": "python",
   "pygments_lexer": "ipython3",
   "version": "3.8.5"
  }
 },
 "nbformat": 4,
 "nbformat_minor": 4
}
